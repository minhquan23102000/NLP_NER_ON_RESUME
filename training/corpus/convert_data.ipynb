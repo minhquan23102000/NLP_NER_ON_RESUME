{
 "cells": [
  {
   "cell_type": "code",
   "execution_count": 1,
   "metadata": {},
   "outputs": [],
   "source": [
    "import spacy\n",
    "import re"
   ]
  },
  {
   "cell_type": "code",
   "execution_count": 2,
   "metadata": {},
   "outputs": [
    {
     "data": {
      "text/plain": [
       "'Đồng O\\nthời O\\n, O\\nbệnh O\\nviện O\\ntiếp O\\ntục O\\nthực O\\nhiện O\\ncác O\\nbiện O\\npháp O\\nphòng O\\nchống O\\ndịch O\\nbệnh O\\nCOVID O\\n- O\\n19 O\\ntheo O\\nhướng O\\ndẫn O\\ncủa O\\nBộ B-ORGANIZATION\\nY I-ORGANIZATION\\ntế I-ORGANIZATION\\n. O'"
      ]
     },
     "execution_count": 2,
     "metadata": {},
     "output_type": "execute_result"
    }
   ],
   "source": [
    "with open('phoner_covid.conll', 'r', encoding='utf-8') as f:\n",
    "    data = f.read().split('\\n\\n')\n",
    "    \n",
    "data[0]"
   ]
  },
  {
   "cell_type": "code",
   "execution_count": 3,
   "metadata": {},
   "outputs": [
    {
     "name": "stdout",
     "output_type": "stream",
     "text": [
      "['Bà', 'này', 'khi', 'trở', 'về', 'quá', 'cảnh', 'Doha', '(', 'Qatar', ')', ',', 'đáp', 'xuống', 'Tân', 'Sơn', 'Nhất', 'sáng', '2/3', 'cùng', '75', 'hành', 'khách', ',', 'trong', 'đó', 'có', '55', 'người', 'nước', 'ngoài', '.']\n",
      "['O', 'O', 'O', 'O', 'O', 'O', 'O', 'B-LOCATION', 'O', 'B-LOCATION', 'O', 'O', 'O', 'O', 'B-LOCATION', 'I-LOCATION', 'I-LOCATION', 'O', 'B-DATE', 'O', 'O', 'O', 'O', 'O', 'O', 'O', 'O', 'O', 'O', 'O', 'O', 'O']\n"
     ]
    }
   ],
   "source": [
    "tokens = []\n",
    "iob_labels = []\n",
    "for token in data[3].split(\"\\n\"):\n",
    "    word, iob_label = token.split()\n",
    "    tokens.append(word)\n",
    "    iob_labels.append(iob_label)\n",
    "    \n",
    "print(tokens)\n",
    "print(iob_labels)"
   ]
  },
  {
   "cell_type": "code",
   "execution_count": 4,
   "metadata": {},
   "outputs": [
    {
     "data": {
      "text/plain": [
       "[('Doha', 'LOCATION'),\n",
       " ('Qatar', 'LOCATION'),\n",
       " ('Tân Sơn Nhất', 'LOCATION'),\n",
       " ('2/3', 'DATE')]"
      ]
     },
     "execution_count": 4,
     "metadata": {},
     "output_type": "execute_result"
    }
   ],
   "source": [
    "def get_ents(tokens, iob_labels):\n",
    "    ents = []\n",
    "\n",
    "    ent = []\n",
    "    last_label = ''\n",
    "    for token, iob_label in zip(tokens, iob_labels):\n",
    "        if iob_label == 'O':\n",
    "            continue\n",
    "        \n",
    "        iob, label = iob_label.split('-')\n",
    "        if iob == 'B':\n",
    "            if last_label:\n",
    "                ents.append((' '.join(ent), last_label))\n",
    "            last_label = label\n",
    "            ent = []\n",
    "            ent.append(token)\n",
    "        elif iob == 'I':\n",
    "            ent.append(token)\n",
    "            \n",
    "    ents.append((' '.join(ent), last_label))\n",
    "\n",
    "    \n",
    "    return ents\n",
    "\n",
    "get_ents(tokens, iob_labels)"
   ]
  },
  {
   "cell_type": "code",
   "execution_count": 5,
   "metadata": {},
   "outputs": [],
   "source": [
    "corpus = []\n",
    "for example in data:\n",
    "    tokens = []\n",
    "    iob_labels = []\n",
    "    for token in example.split(\"\\n\"):\n",
    "        try:\n",
    "            word, iob_label = token.split()\n",
    "        except:\n",
    "            break\n",
    "        tokens.append(word)\n",
    "        iob_labels.append(iob_label)\n",
    "    corpus.append((tokens, iob_labels))"
   ]
  },
  {
   "cell_type": "code",
   "execution_count": 6,
   "metadata": {},
   "outputs": [
    {
     "name": "stdout",
     "output_type": "stream",
     "text": [
      "(['Đồng', 'thời', ',', 'bệnh', 'viện', 'tiếp', 'tục', 'thực', 'hiện', 'các', 'biện', 'pháp', 'phòng', 'chống', 'dịch', 'bệnh', 'COVID', '-', '19', 'theo', 'hướng', 'dẫn', 'của', 'Bộ', 'Y', 'tế', '.'], ['O', 'O', 'O', 'O', 'O', 'O', 'O', 'O', 'O', 'O', 'O', 'O', 'O', 'O', 'O', 'O', 'O', 'O', 'O', 'O', 'O', 'O', 'O', 'B-ORGANIZATION', 'I-ORGANIZATION', 'I-ORGANIZATION', 'O'])\n"
     ]
    }
   ],
   "source": [
    "print(corpus[0])"
   ]
  },
  {
   "cell_type": "code",
   "execution_count": 20,
   "metadata": {},
   "outputs": [],
   "source": [
    "LABEL_MAP = {\n",
    "    \"ORGANIZATION\": \"ORG\",\n",
    "    \"NAME\": \"PERSON_NAME\",\n",
    "    \"JOB\": \"JOB_TITLE\",\n",
    "    \"LOCATION\": \"ADDRESS\",\n",
    "    \"DATE\": \"DATE\"\n",
    "}\n",
    "nlp = spacy.blank('en')\n",
    "\n",
    "def create_doc(text, ents):\n",
    "    doc = nlp(text)\n",
    "    ents_spacy = []\n",
    "    for ent in ents:\n",
    "        if ent[1] not in LABEL_MAP.keys():\n",
    "            continue\n",
    "        span = re.search(ent[0], text)\n",
    "        if span:\n",
    "            span = span.span()\n",
    "            e  = doc.char_span(span[0], span[1], LABEL_MAP.get(ent[1]), alignment_mode='contract')\n",
    "            if e:\n",
    "                ents_spacy.append(e)\n",
    "    if ents_spacy:\n",
    "        ents_spacy = spacy.util.filter_spans(ents_spacy)\n",
    "        doc.set_ents(ents_spacy)\n",
    "    \n",
    "    return doc\n",
    "        \n",
    "        \n",
    "\n",
    "        "
   ]
  },
  {
   "cell_type": "code",
   "execution_count": 21,
   "metadata": {},
   "outputs": [
    {
     "name": "stdout",
     "output_type": "stream",
     "text": [
      "{'', 'SYMPTOM_AND_DISEASE', 'TRANSPORTATION', 'PATIENT_ID', 'AGE', 'GENDER', 'LOCATION', 'DATE', 'NAME', 'JOB', 'ORGANIZATION'}\n"
     ]
    }
   ],
   "source": [
    "db = spacy.tokens.DocBin()\n",
    "labels_ = []\n",
    "for tokens, iob_labels in corpus:\n",
    "    text = ' '.join(tokens)\n",
    "    ents = get_ents(tokens, iob_labels)\n",
    "    for e in ents:\n",
    "        labels_.append(e[1])\n",
    "    \n",
    "    doc = create_doc(text, ents)\n",
    "    db.add(doc)\n",
    "\n",
    "print(set(labels_))\n",
    "\n",
    "db.to_disk('phoner_covid.spacy')\n",
    "    "
   ]
  },
  {
   "cell_type": "code",
   "execution_count": null,
   "metadata": {},
   "outputs": [],
   "source": []
  }
 ],
 "metadata": {
  "kernelspec": {
   "display_name": "Python 3.9.5 ('cv_parser')",
   "language": "python",
   "name": "python3"
  },
  "language_info": {
   "codemirror_mode": {
    "name": "ipython",
    "version": 3
   },
   "file_extension": ".py",
   "mimetype": "text/x-python",
   "name": "python",
   "nbconvert_exporter": "python",
   "pygments_lexer": "ipython3",
   "version": "3.9.5"
  },
  "orig_nbformat": 4,
  "vscode": {
   "interpreter": {
    "hash": "74aeec88d2a643caab20b24cbf533fb04c6ed7e57fd82ff5d9db5b72fd010c6a"
   }
  }
 },
 "nbformat": 4,
 "nbformat_minor": 2
}
