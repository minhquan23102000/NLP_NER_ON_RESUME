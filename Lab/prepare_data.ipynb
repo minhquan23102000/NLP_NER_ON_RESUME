{
 "cells": [
  {
   "cell_type": "code",
   "execution_count": 1,
   "metadata": {},
   "outputs": [
    {
     "name": "stderr",
     "output_type": "stream",
     "text": [
      "c:\\Users\\PC\\anaconda3\\envs\\cv_parser\\lib\\site-packages\\tqdm\\auto.py:22: TqdmWarning: IProgress not found. Please update jupyter and ipywidgets. See https://ipywidgets.readthedocs.io/en/stable/user_install.html\n",
      "  from .autonotebook import tqdm as notebook_tqdm\n"
     ]
    },
    {
     "name": "stdout",
     "output_type": "stream",
     "text": [
      "3.3.0\n"
     ]
    }
   ],
   "source": [
    "import spacy\n",
    "\n",
    "print(spacy.__version__)"
   ]
  },
  {
   "cell_type": "markdown",
   "metadata": {},
   "source": [
    "# Read and prepare data"
   ]
  },
  {
   "cell_type": "code",
   "execution_count": 2,
   "metadata": {},
   "outputs": [],
   "source": [
    "import json\n",
    "import os\n",
    "\n",
    "CLASSES = [\"PERSON_NAME\",\"ADDRESS\",\"EDUCATION\",\"GPA\",\"SKILL\",\"EXPERIENCE_LEVEL\",\"JOB_TITLE\",\"DATE_BIRTH\",\"MAJOR\",\"MARIAGE_STATUS\", 'GENDER', 'ORGANIZATION']\n",
    "\n"
   ]
  },
  {
   "cell_type": "code",
   "execution_count": 7,
   "metadata": {},
   "outputs": [],
   "source": [
    "from pyvi import ViUtils\n",
    "import re\n",
    "\n",
    "doc_container = spacy.tokens.DocBin()\n",
    "data_folder = '../data/resume_annotations'\n",
    "nlp = spacy.blank('en')\n",
    "WHITE_SPACE = re.compile(r'\\s+')\n",
    "\n",
    "len_txt = []\n",
    "#Loop through list file in annotations folder\n",
    "for file_name in (os.listdir(data_folder)):\n",
    "    file_path = f'{data_folder}/{file_name}'\n",
    "    \n",
    "    if os.path.isfile(file_path):\n",
    "        with open(file_path, 'r', encoding='utf-8') as f:\n",
    "            data = json.load(f)\n",
    "\n",
    "            if len(data['annotations']) == 0:\n",
    "                continue\n",
    "            \n",
    "            annotations = data['annotations'][0]\n",
    "            text = annotations[0]\n",
    "            doc = nlp(text)\n",
    "            len_txt.append(len(text))\n",
    "            \n",
    "            entities = annotations[1]['entities']\n",
    "            \n",
    "            ents_list = []\n",
    "            for start_idx, end_idx, label in entities:\n",
    "                span = doc.char_span(start_idx, end_idx, label = label, alignment_mode='contract')\n",
    "                \n",
    "                if WHITE_SPACE.match(str(span).strip()) or len(str(span)) == 0:\n",
    "                    print(\"skip\")\n",
    "                    continue\n",
    "                \n",
    "                if span and label in CLASSES:\n",
    "                    ents_list.append(span)\n",
    "                    \n",
    "                    \n",
    "            ent_list = spacy.util.filter_spans(ents_list)\n",
    "            doc.ents = ents_list\n",
    "\n",
    "        doc_container.add(doc)\n",
    "        \n",
    "\n",
    "                "
   ]
  },
  {
   "cell_type": "code",
   "execution_count": 8,
   "metadata": {},
   "outputs": [
    {
     "data": {
      "text/plain": [
       "139.0"
      ]
     },
     "execution_count": 8,
     "metadata": {},
     "output_type": "execute_result"
    }
   ],
   "source": [
    "import numpy as np\n",
    "np.median(len_txt)"
   ]
  },
  {
   "cell_type": "code",
   "execution_count": 9,
   "metadata": {},
   "outputs": [
    {
     "name": "stdout",
     "output_type": "stream",
     "text": [
      "(Vo Van Thinh, Senior Developer, Information Technology, Hue University, POS LACVIET, Senior Developer, POS system, POS system, research new technology, support team)\n",
      "(C#, ASP.NET, MVC, ENTITY FRAMEWORK, JavaScript, CSS3, HTML5, LinQ, Angularjs, Kendo UI, VTA Vien Thong, Senior Developer, reports, analyzing, exploit data system, research new technology, support team member)\n",
      "(POSTS AND TELECOMMUNICATIONS INSTITUTE, HD WEBSOFT, QC LEADER, Tester, Business Analyst, test plans, test cases, communications, automation testing, API testing, SOLUTION Tester, Business Analyst, Read requirement documents, Draw mockup, Write test cases, test plans, Report, track bugs, Manual testing, Report and track bugs, SCHOOL BLOOD DONATION ORGANIZATION)\n",
      "(work in a team,)\n",
      "(TRAN HOANG TRUONG HAI, Male, 8th February 1990, 32 block 1A Trung Nu Vuong street Cai Be Township Cai Be district Tien Giang province)\n",
      "(project investigate, analyze, write document)\n",
      "(Bachelor, Economics, GPA 7.21/10, MS Excel, MS Word, Powerpoint, 2.5 years working experiences, SAP, ERP, FI, CO, MM, SD, 2 year experiences, HTKK, Taxonline, 5 months, Syspro)\n",
      "(BACH KHOA UNIVERSITY VNU.HCM, Computer Science, GPA 7.68/10, Computer and Information Technology, Computer Science)\n",
      "(2 years of working, VNG corp., 1 year of working, TAS Vietnam corp, Android, Eclipse)\n",
      "(application design, web design, motion graphic, video editing)\n",
      "(SAP, VAT balance, tax report, taxonline)\n",
      "(4 years of experience, Information Technology)\n",
      "(WCF, Wordpress, MVC, Js, Vue js, Rivet js, Aurelia js, Angularjs, Database Proficient, MS SQL Server, MongoDB, NoSQL, Microsoft Visual Studio, Microsoft Office, Visual Code, Git, GitLap, GitHub, Git Extensions, OS, Windows, Linux, C#, ASP.NET, MVC, HTML, CSS, JAVACSRIPT, JQUERY, Bootstrap, Net CORE, Angular, Typescript, MS SQL Server, MongoDB, NoSQL, Communication, ASP.NET, MVC, Ajax, LINQ, ENTITY FRAMEWORK, HTML, CSS, JAVACSRIPT, JQUERY, Bootstrap, WCF, MVC, Js Framework, Vue js, Rivet js, Aurelia js, Angular js, Kendo UI, Microsoft Visual Studio, Microsoft Office, Git, GitLap, GitHub, Git Extensions TFS)\n",
      "(C/C++, C#, Java)\n",
      "(team work, working independently)\n",
      "(PRODUCT MANAGER, Sr. BUSINESS ANALYST, 15/8/9A Street 5 Linh Trung Thu Duc HCMC, DIGITEXX VIETNAM, Software Engineer, Software Dept)\n",
      "(LUA,)\n",
      "(Siemens' MM420,)\n",
      "(Marketing Collaborator, VNG Corporation, Admin fanpage and website)\n",
      "(ERP, ERP, training, support users)\n",
      "(testing,)\n",
      "(code review,)\n",
      "(Duong Thi Ha Giang, 76 St.6 Nha Be District HCM City, Duong Thi Ha Giang, February 8th 1984, Female, Secretary, Accounting Enterprise Administrator, Institute Professional DNIIT, C++, VB.NET, Java, XML)\n",
      "(LE QUANG THANH, Jan 22 1998, 21/6 Dong Hamlet Thoi Tam ThonVillage Hoc Mon District HCMC, Figma, Adobe Illustrator, Adobe Photoshop, Adobe XD, HTML, CSS, Wireframing, Prototyping UX, Researching, UX/UI Designer, 3 years+ experience, UI wireframing prototyping, UX)\n",
      "(Lavie Limited Liability Company Nestle waters Corporation, Fixed Asset and Inventory Controller, Reconcile Fixed Asset, accounting book VAS and NAS)\n"
     ]
    }
   ],
   "source": [
    "import random\n",
    "docs = list(doc_container.get_docs(nlp.vocab))\n",
    "\n",
    "random.shuffle(docs)\n",
    "for d in docs[:25]:\n",
    "    print(d.ents)"
   ]
  },
  {
   "cell_type": "code",
   "execution_count": 10,
   "metadata": {},
   "outputs": [],
   "source": [
    "doc_container.to_disk('../data/ner_entities_resumes.spacy')"
   ]
  },
  {
   "cell_type": "code",
   "execution_count": null,
   "metadata": {},
   "outputs": [],
   "source": []
  }
 ],
 "metadata": {
  "interpreter": {
   "hash": "74aeec88d2a643caab20b24cbf533fb04c6ed7e57fd82ff5d9db5b72fd010c6a"
  },
  "kernelspec": {
   "display_name": "Python 3.7.12 ('cv_parser')",
   "language": "python",
   "name": "python3"
  },
  "language_info": {
   "codemirror_mode": {
    "name": "ipython",
    "version": 3
   },
   "file_extension": ".py",
   "mimetype": "text/x-python",
   "name": "python",
   "nbconvert_exporter": "python",
   "pygments_lexer": "ipython3",
   "version": "3.9.5"
  },
  "orig_nbformat": 4
 },
 "nbformat": 4,
 "nbformat_minor": 2
}
