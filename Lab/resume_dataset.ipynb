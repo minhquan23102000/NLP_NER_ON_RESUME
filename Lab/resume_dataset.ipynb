{
 "cells": [
  {
   "cell_type": "code",
   "execution_count": 7,
   "metadata": {},
   "outputs": [
    {
     "data": {
      "text/html": [
       "<div>\n",
       "<style scoped>\n",
       "    .dataframe tbody tr th:only-of-type {\n",
       "        vertical-align: middle;\n",
       "    }\n",
       "\n",
       "    .dataframe tbody tr th {\n",
       "        vertical-align: top;\n",
       "    }\n",
       "\n",
       "    .dataframe thead th {\n",
       "        text-align: right;\n",
       "    }\n",
       "</style>\n",
       "<table border=\"1\" class=\"dataframe\">\n",
       "  <thead>\n",
       "    <tr style=\"text-align: right;\">\n",
       "      <th></th>\n",
       "      <th>Category</th>\n",
       "      <th>Resume</th>\n",
       "    </tr>\n",
       "  </thead>\n",
       "  <tbody>\n",
       "    <tr>\n",
       "      <th>0</th>\n",
       "      <td>Data Science</td>\n",
       "      <td>Skills * Programming Languages: Python (pandas...</td>\n",
       "    </tr>\n",
       "    <tr>\n",
       "      <th>1</th>\n",
       "      <td>Data Science</td>\n",
       "      <td>Education Details \\r\\nMay 2013 to May 2017 B.E...</td>\n",
       "    </tr>\n",
       "    <tr>\n",
       "      <th>2</th>\n",
       "      <td>Data Science</td>\n",
       "      <td>Areas of Interest Deep Learning, Control Syste...</td>\n",
       "    </tr>\n",
       "    <tr>\n",
       "      <th>3</th>\n",
       "      <td>Data Science</td>\n",
       "      <td>Skills â¢ R â¢ Python â¢ SAP HANA â¢ Table...</td>\n",
       "    </tr>\n",
       "    <tr>\n",
       "      <th>4</th>\n",
       "      <td>Data Science</td>\n",
       "      <td>Education Details \\r\\n MCA   YMCAUST,  Faridab...</td>\n",
       "    </tr>\n",
       "  </tbody>\n",
       "</table>\n",
       "</div>"
      ],
      "text/plain": [
       "       Category                                             Resume\n",
       "0  Data Science  Skills * Programming Languages: Python (pandas...\n",
       "1  Data Science  Education Details \\r\\nMay 2013 to May 2017 B.E...\n",
       "2  Data Science  Areas of Interest Deep Learning, Control Syste...\n",
       "3  Data Science  Skills â¢ R â¢ Python â¢ SAP HANA â¢ Table...\n",
       "4  Data Science  Education Details \\r\\n MCA   YMCAUST,  Faridab..."
      ]
     },
     "execution_count": 7,
     "metadata": {},
     "output_type": "execute_result"
    }
   ],
   "source": [
    "import pandas as pd\n",
    "def clean_whitespace(statement):\n",
    "    \"\"\"\n",
    "    Remove any consecutive whitespace characters from the statement text.\n",
    "    \"\"\"\n",
    "\n",
    "    import re\n",
    "\n",
    "    # Replace linebreaks and tabs with spaces\n",
    "    statement = ' '.join(statement.split())\n",
    "\n",
    "    # Remove consecutive spaces\n",
    "    statement = re.sub(r'\\s{2,}', ' ', statement)\n",
    "\n",
    "    return statement.strip()\n",
    "\n",
    "def clean_text(text):\n",
    "    import re\n",
    "\n",
    "    from pyvi import ViUtils\n",
    "    text = re.sub(r\"[^'/\\\\&@.+#*%\\w\\d\\s]\", ' ', text)\n",
    "\n",
    "    #remove accents\n",
    "    text = ViUtils.remove_accents(text).decode('utf-8')\n",
    "    text = clean_whitespace(text)\n",
    "\n",
    "    return text\n",
    "\n",
    "\n",
    "\n",
    "data = pd.read_csv('../CV/UpdatedResumeDataSet.csv')\n",
    "\n",
    "data.head()"
   ]
  },
  {
   "cell_type": "code",
   "execution_count": 3,
   "metadata": {},
   "outputs": [],
   "source": [
    "data = data[data['Category'].isin(['Data Science', 'Blockchain'])]"
   ]
  },
  {
   "cell_type": "code",
   "execution_count": 4,
   "metadata": {},
   "outputs": [
    {
     "data": {
      "text/plain": [
       "(80, 2)"
      ]
     },
     "execution_count": 4,
     "metadata": {},
     "output_type": "execute_result"
    }
   ],
   "source": [
    "data.shape"
   ]
  },
  {
   "cell_type": "code",
   "execution_count": 10,
   "metadata": {},
   "outputs": [],
   "source": [
    "import nltk\n",
    "\n",
    "for index, cv in enumerate(data[data.Category == 'Data Science'].values):\n",
    "    if index == 5:\n",
    "        break \n",
    "    \n",
    "    resume_text = cv[1]\n",
    "    \n",
    "    for i, sentence in enumerate(nltk.sent_tokenize(resume_text)):\n",
    "        sentence = clean_text(sentence)\n",
    "        with open(f'../data/CV_text/cv_data_science{index}_{i}.txt', 'w', encoding='utf-8') as f:\n",
    "            f.write(sentence)\n",
    "              "
   ]
  },
  {
   "cell_type": "code",
   "execution_count": 11,
   "metadata": {},
   "outputs": [],
   "source": [
    "for index, cv in enumerate(data[data.Category == 'Blockchain'].values):\n",
    "    if index == 5:\n",
    "        break \n",
    "    \n",
    "    resume_text = cv[1]\n",
    "    \n",
    "    for i, sentence in enumerate(nltk.sent_tokenize(resume_text)):\n",
    "        sentence = clean_text(sentence)\n",
    "        with open(f'../data/CV_text/cv_blockchain{index}_{i}.txt', 'w', encoding='utf-8') as f:\n",
    "            f.write(sentence)\n",
    "              "
   ]
  },
  {
   "cell_type": "code",
   "execution_count": null,
   "metadata": {},
   "outputs": [],
   "source": []
  }
 ],
 "metadata": {
  "interpreter": {
   "hash": "7f48b1cad323e32094bb023effc2eb3a3a130f98a51b46745c09739e07c2398f"
  },
  "kernelspec": {
   "display_name": "Python 3.8.12 ('deep_zone')",
   "language": "python",
   "name": "python3"
  },
  "language_info": {
   "codemirror_mode": {
    "name": "ipython",
    "version": 3
   },
   "file_extension": ".py",
   "mimetype": "text/x-python",
   "name": "python",
   "nbconvert_exporter": "python",
   "pygments_lexer": "ipython3",
   "version": "3.8.12"
  },
  "orig_nbformat": 4
 },
 "nbformat": 4,
 "nbformat_minor": 2
}
